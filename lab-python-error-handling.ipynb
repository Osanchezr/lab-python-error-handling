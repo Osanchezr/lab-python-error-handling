{
 "cells": [
  {
   "cell_type": "markdown",
   "id": "25d7736c-ba17-4aff-b6bb-66eba20fbf4e",
   "metadata": {},
   "source": [
    "# Lab | Error Handling"
   ]
  },
  {
   "cell_type": "markdown",
   "id": "bc99b386-7508-47a0-bcdb-d969deaf6c8b",
   "metadata": {},
   "source": [
    "## Exercise: Error Handling for Managing Customer Orders\n",
    "\n",
    "The implementation of your code for managing customer orders assumes that the user will always enter a valid input. \n",
    "\n",
    "For example, we could modify the `initialize_inventory` function to include error handling.\n",
    "   - If the user enters an invalid quantity (e.g., a negative value or a non-numeric value), display an error message and ask them to re-enter the quantity for that product.\n",
    "   - Use a try-except block to handle the error and continue prompting the user until a valid quantity is entered.\n",
    "\n",
    "```python\n",
    "# Step 1: Define the function for initializing the inventory with error handling\n",
    "def initialize_inventory(products):\n",
    "    inventory = {}\n",
    "    for product in products:\n",
    "        valid_quantity = False\n",
    "        while not valid_quantity:\n",
    "            try:\n",
    "                quantity = int(input(f\"Enter the quantity of {product}s available: \"))\n",
    "                if quantity < 0:\n",
    "                    raise ValueError(\"Invalid quantity! Please enter a non-negative value.\")\n",
    "                valid_quantity = True\n",
    "            except ValueError as error:\n",
    "                print(f\"Error: {error}\")\n",
    "        inventory[product] = quantity\n",
    "    return inventory\n",
    "\n",
    "# Or, in another way:\n",
    "\n",
    "def initialize_inventory(products):\n",
    "    inventory = {}\n",
    "    for product in products:\n",
    "        valid_input = False\n",
    "        while not valid_input:\n",
    "            try:\n",
    "                quantity = int(input(f\"Enter the quantity of {product}s available: \"))\n",
    "                if quantity >= 0:\n",
    "                    inventory[product] = quantity\n",
    "                    valid_input = True\n",
    "                else:\n",
    "                    print(\"Quantity cannot be negative. Please enter a valid quantity.\")\n",
    "            except ValueError:\n",
    "                print(\"Invalid input. Please enter a valid quantity.\")\n",
    "    return inventory\n",
    "```\n",
    "\n",
    "Let's enhance your code by implementing error handling to handle invalid inputs.\n",
    "\n",
    "Follow the steps below to complete the exercise:\n",
    "\n",
    "2. Modify the `calculate_total_price` function to include error handling.\n",
    "   - If the user enters an invalid price (e.g., a negative value or a non-numeric value), display an error message and ask them to re-enter the price for that product.\n",
    "   - Use a try-except block to handle the error and continue prompting the user until a valid price is entered.\n",
    "\n",
    "3. Modify the `get_customer_orders` function to include error handling.\n",
    "   - If the user enters an invalid number of orders (e.g., a negative value or a non-numeric value), display an error message and ask them to re-enter the number of orders.\n",
    "   - If the user enters an invalid product name (e.g., a product name that is not in the inventory), or that doesn't have stock available, display an error message and ask them to re-enter the product name. *Hint: you will need to pass inventory as a parameter*\n",
    "   - Use a try-except block to handle the error and continue prompting the user until a valid product name is entered.\n",
    "\n",
    "4. Test your code by running the program and deliberately entering invalid quantities and product names. Make sure the error handling mechanism works as expected.\n"
   ]
  },
  {
   "cell_type": "code",
   "execution_count": 29,
   "id": "56344b38",
   "metadata": {},
   "outputs": [],
   "source": [
    "#step 1\n",
    "\n",
    "def initialize_inventory(products):\n",
    "    inventory={}\n",
    "    for product in products:\n",
    "            valid_imput = False\n",
    "            while not valid_imput:\n",
    "                try:\n",
    "                    quantity = int(input(f\"Ingrese la cantidad de {product}\"))\n",
    "                    if quantity > 0:                       \n",
    "                        inventory[product] = quantity\n",
    "                        valid_imput = True\n",
    "                    else:\n",
    "                         print(\"La cantidad no puede ser negativa, ingrese nuevamente\")       \n",
    "     \n",
    "                except ValueError:\n",
    "                     print(\"valor invalido, ingrese nuevamente\")\n",
    "\n",
    "    return inventory\n"
   ]
  },
  {
   "cell_type": "code",
   "execution_count": 38,
   "id": "365b60aa",
   "metadata": {},
   "outputs": [],
   "source": [
    "#step 2\n",
    "\n",
    "def get_customer_orders(inventory):\n",
    "    customer_orders = set()  \n",
    "    \n",
    "    while True:\n",
    "        try:\n",
    "            order = input(\"Ingrese el nombre de la orden del producto (o 'salir' para terminar): \")\n",
    "            if order.lower() == \"salir\":  \n",
    "                print(\"Orden de pedidos culminado\")\n",
    "                break\n",
    "            elif order.lower() not in inventory.keys():  # Verifica si la orden no está en el inventario\n",
    "                raise ValueError(f\"El producto '{order}' no está en el inventario.\")\n",
    "            else:\n",
    "                customer_orders.add(order)  \n",
    "                \n",
    "\n",
    "        except ValueError: \n",
    "            print(\"Valor inválido, ingrese nuevamente \")\n",
    "\n",
    "    return customer_orders    "
   ]
  },
  {
   "cell_type": "code",
   "execution_count": 31,
   "id": "d06265f0",
   "metadata": {},
   "outputs": [],
   "source": [
    "#step 3\n",
    "\n",
    "def update_inventory(customer_orders, inventory):\n",
    "    for i in customer_orders :\n",
    "        if i in inventory and inventory[i] > 0:\n",
    "            inventory[i] -= 1\n",
    "        else:\n",
    "            print(f\"El producto {i} no queda en el inventario\")    \n",
    "    \n",
    "    return inventory\n",
    "\n"
   ]
  },
  {
   "cell_type": "code",
   "execution_count": 32,
   "id": "5e90e995",
   "metadata": {},
   "outputs": [],
   "source": [
    "#step 3.1\n",
    "\n",
    "def calculate_total_price(customer_orders):\n",
    "    prices = []\n",
    "    \n",
    "    for product in customer_orders:\n",
    "        valid_input = False\n",
    "        while not valid_input:\n",
    "            try:\n",
    "                price = float(input(f\"Ingrese el precio de {product}: \"))\n",
    "                \n",
    "                if price < 0:\n",
    "                    print(\"El precio no puede ser negativo, ingrese nuevamente.\")\n",
    "                else:\n",
    "                    prices.append(price)\n",
    "                    valid_input = True\n",
    "            \n",
    "            except ValueError:\n",
    "                print(\"Valor inválido, por favor ingrese un número válido.\")\n",
    "\n",
    "    total_price = sum(prices)\n",
    "    print(f\"Precio total: {total_price}\")\n"
   ]
  },
  {
   "cell_type": "code",
   "execution_count": 33,
   "id": "907ffcf9",
   "metadata": {},
   "outputs": [],
   "source": [
    "#step 4\n",
    "\n",
    "def calculate_order_statistics(customer_orders, products):\n",
    "    total_product_order = len(customer_orders)\n",
    "    percentaje_product_order = total_product_order/len(products)*100\n",
    "\n",
    "    return total_product_order, percentaje_product_order\n",
    "   "
   ]
  },
  {
   "cell_type": "code",
   "execution_count": 34,
   "id": "673c6f4e",
   "metadata": {},
   "outputs": [],
   "source": [
    "#step 5\n",
    "\n",
    "def print_order_statistics(order_statistics):\n",
    "    total_products_ordered, unique_products_percentage = order_statistics\n",
    "    print(f\"Total de productos pedidos : {order_statistics[0]}\")\n",
    "    print(f\"porcentaje de productos unicos vendidos :{order_statistics[1]:.2f}%\")\n",
    "    "
   ]
  },
  {
   "cell_type": "code",
   "execution_count": 35,
   "id": "bd28bebe",
   "metadata": {},
   "outputs": [],
   "source": [
    "#step 6\n",
    "\n",
    "def print_update_inventory(inventory):\n",
    "    print(\"inventario actualizado: \")\n",
    "    for clave, valor in inventory.items():\n",
    "        print(f\"{clave} : {valor}\")"
   ]
  },
  {
   "cell_type": "code",
   "execution_count": 39,
   "id": "8395c45a",
   "metadata": {},
   "outputs": [
    {
     "name": "stdout",
     "output_type": "stream",
     "text": [
      "Orden de pedidos culminado\n",
      "Total de productos pedidos : 3\n",
      "porcentaje de productos unicos vendidos :60.00%\n",
      "inventario actualizado: \n",
      "hat : 9\n",
      "mug : 9\n",
      "keychain : 10\n",
      "book : 10\n",
      "t-shirt : 9\n",
      "Precio total: 10.0\n"
     ]
    }
   ],
   "source": [
    "#step 7\n",
    "products = [\"hat\",\"mug\",\"keychain\",\"book\",\"t-shirt\"]\n",
    "\n",
    "inventory = initialize_inventory(products)\n",
    "customer_orders = get_customer_orders(inventory)\n",
    "inventory = update_inventory(customer_orders, inventory)\n",
    "order_statistics = calculate_order_statistics(customer_orders, products)\n",
    "print_order_statistics(order_statistics)\n",
    "print_update_inventory(inventory)\n",
    "calculate_total_price(customer_orders)"
   ]
  }
 ],
 "metadata": {
  "kernelspec": {
   "display_name": "Python 3 (ipykernel)",
   "language": "python",
   "name": "python3"
  },
  "language_info": {
   "codemirror_mode": {
    "name": "ipython",
    "version": 3
   },
   "file_extension": ".py",
   "mimetype": "text/x-python",
   "name": "python",
   "nbconvert_exporter": "python",
   "pygments_lexer": "ipython3",
   "version": "3.8.8"
  }
 },
 "nbformat": 4,
 "nbformat_minor": 5
}
